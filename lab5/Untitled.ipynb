{
 "cells": [
  {
   "cell_type": "code",
   "execution_count": 1,
   "id": "cb713914",
   "metadata": {},
   "outputs": [
    {
     "name": "stdout",
     "output_type": "stream",
     "text": [
      "Requirement already satisfied: python-telegram-bot in c:\\users\\user\\appdata\\local\\programs\\python\\python37\\lib\\site-packages (20.2)\n",
      "Requirement already satisfied: httpx~=0.23.3 in c:\\users\\user\\appdata\\local\\programs\\python\\python37\\lib\\site-packages (from python-telegram-bot) (0.23.3)\n",
      "Requirement already satisfied: certifi in c:\\users\\user\\appdata\\local\\programs\\python\\python37\\lib\\site-packages (from httpx~=0.23.3->python-telegram-bot) (2022.9.24)\n",
      "Requirement already satisfied: httpcore<0.17.0,>=0.15.0 in c:\\users\\user\\appdata\\local\\programs\\python\\python37\\lib\\site-packages (from httpx~=0.23.3->python-telegram-bot) (0.16.3)\n",
      "Requirement already satisfied: rfc3986[idna2008]<2,>=1.3 in c:\\users\\user\\appdata\\local\\programs\\python\\python37\\lib\\site-packages (from httpx~=0.23.3->python-telegram-bot) (1.5.0)\n",
      "Requirement already satisfied: sniffio in c:\\users\\user\\appdata\\local\\programs\\python\\python37\\lib\\site-packages (from httpx~=0.23.3->python-telegram-bot) (1.3.0)\n",
      "Requirement already satisfied: h11<0.15,>=0.13 in c:\\users\\user\\appdata\\local\\programs\\python\\python37\\lib\\site-packages (from httpcore<0.17.0,>=0.15.0->httpx~=0.23.3->python-telegram-bot) (0.14.0)\n",
      "Requirement already satisfied: anyio<5.0,>=3.0 in c:\\users\\user\\appdata\\local\\programs\\python\\python37\\lib\\site-packages (from httpcore<0.17.0,>=0.15.0->httpx~=0.23.3->python-telegram-bot) (3.6.1)\n",
      "Requirement already satisfied: idna in c:\\users\\user\\appdata\\local\\programs\\python\\python37\\lib\\site-packages (from rfc3986[idna2008]<2,>=1.3->httpx~=0.23.3->python-telegram-bot) (3.4)\n",
      "Requirement already satisfied: typing-extensions in c:\\users\\user\\appdata\\local\\programs\\python\\python37\\lib\\site-packages (from anyio<5.0,>=3.0->httpcore<0.17.0,>=0.15.0->httpx~=0.23.3->python-telegram-bot) (4.5.0)\n"
     ]
    }
   ],
   "source": [
    "!pip install python-telegram-bot --upgrade"
   ]
  },
  {
   "cell_type": "code",
   "execution_count": 2,
   "id": "ed0b2114",
   "metadata": {},
   "outputs": [],
   "source": [
    "import logging\n",
    "from telegram import Update\n",
    "from telegram.ext import ApplicationBuilder, ContextTypes, CommandHandler"
   ]
  },
  {
   "cell_type": "code",
   "execution_count": 3,
   "id": "d8408703",
   "metadata": {},
   "outputs": [],
   "source": [
    "logging.basicConfig(\n",
    "    format='%(asctime)s - %(name)s - %(levelname)s - %(message)s',\n",
    "    level=logging.INFO\n",
    ")"
   ]
  },
  {
   "cell_type": "code",
   "execution_count": 5,
   "id": "98952376",
   "metadata": {},
   "outputs": [],
   "source": [
    "#if __name__ == '__main__':\n",
    "application = ApplicationBuilder().token('6112376366:AAGg6qRTZR_smiL3sTafCGL7tCN6MOaXbrQ').build()"
   ]
  },
  {
   "cell_type": "code",
   "execution_count": null,
   "id": "3fefee12",
   "metadata": {},
   "outputs": [],
   "source": []
  }
 ],
 "metadata": {
  "kernelspec": {
   "display_name": "Python 3 (ipykernel)",
   "language": "python",
   "name": "python3"
  },
  "language_info": {
   "codemirror_mode": {
    "name": "ipython",
    "version": 3
   },
   "file_extension": ".py",
   "mimetype": "text/x-python",
   "name": "python",
   "nbconvert_exporter": "python",
   "pygments_lexer": "ipython3",
   "version": "3.7.6"
  }
 },
 "nbformat": 4,
 "nbformat_minor": 5
}
